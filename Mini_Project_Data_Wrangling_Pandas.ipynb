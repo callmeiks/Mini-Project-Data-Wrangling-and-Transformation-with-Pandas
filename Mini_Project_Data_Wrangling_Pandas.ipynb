{
 "cells": [
  {
   "cell_type": "markdown",
   "metadata": {},
   "source": [
    "# Mini-Project: Data Wrangling and Transformation with Pandas\n",
    "\n",
    "Working with tabular data is a necessity for anyone with enterprises having a majority of their data in relational databases and flat files. This mini-project is adopted from the excellent tutorial on pandas by Brandon Rhodes which you have watched earlier in the Data Wrangling Unit. In this mini-project, we will be looking at some interesting data based on movie data from the IMDB.\n",
    "\n",
    "This assignment should help you reinforce the concepts you learnt in the curriculum for Data Wrangling and sharpen your skills in using Pandas. Good Luck!"
   ]
  },
  {
   "cell_type": "markdown",
   "metadata": {},
   "source": [
    "### Please make sure you have one of the more recent versions of Pandas"
   ]
  },
  {
   "cell_type": "code",
   "execution_count": 2,
   "metadata": {
    "gradient": {}
   },
   "outputs": [],
   "source": [
    "import pandas as pd\n",
    "import matplotlib.pyplot as plt\n",
    "\n",
    "%matplotlib inline"
   ]
  },
  {
   "cell_type": "code",
   "execution_count": 3,
   "metadata": {
    "gradient": {}
   },
   "outputs": [
    {
     "data": {
      "text/plain": [
       "'1.0.1'"
      ]
     },
     "execution_count": 3,
     "metadata": {},
     "output_type": "execute_result"
    }
   ],
   "source": [
    "pd.__version__"
   ]
  },
  {
   "cell_type": "markdown",
   "metadata": {},
   "source": [
    "## Taking a look at the Movies dataset\n",
    "This data shows the movies based on their title and the year of release"
   ]
  },
  {
   "cell_type": "code",
   "execution_count": 4,
   "metadata": {
    "gradient": {}
   },
   "outputs": [
    {
     "name": "stdout",
     "output_type": "stream",
     "text": [
      "<class 'pandas.core.frame.DataFrame'>\n",
      "RangeIndex: 244914 entries, 0 to 244913\n",
      "Data columns (total 2 columns):\n",
      " #   Column  Non-Null Count   Dtype \n",
      "---  ------  --------------   ----- \n",
      " 0   title   244914 non-null  object\n",
      " 1   year    244914 non-null  int64 \n",
      "dtypes: int64(1), object(1)\n",
      "memory usage: 3.7+ MB\n"
     ]
    }
   ],
   "source": [
    "movies = pd.read_csv('titles.csv')\n",
    "movies.info()"
   ]
  },
  {
   "cell_type": "code",
   "execution_count": 5,
   "metadata": {
    "gradient": {}
   },
   "outputs": [
    {
     "data": {
      "text/html": [
       "<div>\n",
       "<style scoped>\n",
       "    .dataframe tbody tr th:only-of-type {\n",
       "        vertical-align: middle;\n",
       "    }\n",
       "\n",
       "    .dataframe tbody tr th {\n",
       "        vertical-align: top;\n",
       "    }\n",
       "\n",
       "    .dataframe thead th {\n",
       "        text-align: right;\n",
       "    }\n",
       "</style>\n",
       "<table border=\"1\" class=\"dataframe\">\n",
       "  <thead>\n",
       "    <tr style=\"text-align: right;\">\n",
       "      <th></th>\n",
       "      <th>title</th>\n",
       "      <th>year</th>\n",
       "    </tr>\n",
       "  </thead>\n",
       "  <tbody>\n",
       "    <tr>\n",
       "      <th>0</th>\n",
       "      <td>The Ticket to the Life</td>\n",
       "      <td>2009</td>\n",
       "    </tr>\n",
       "    <tr>\n",
       "      <th>1</th>\n",
       "      <td>Parallel Worlds: A New Rock Music Experience</td>\n",
       "      <td>2016</td>\n",
       "    </tr>\n",
       "    <tr>\n",
       "      <th>2</th>\n",
       "      <td>Morita - La hija de Jesus</td>\n",
       "      <td>2008</td>\n",
       "    </tr>\n",
       "    <tr>\n",
       "      <th>3</th>\n",
       "      <td>Gun</td>\n",
       "      <td>2017</td>\n",
       "    </tr>\n",
       "    <tr>\n",
       "      <th>4</th>\n",
       "      <td>Love or Nothing at All</td>\n",
       "      <td>2014</td>\n",
       "    </tr>\n",
       "  </tbody>\n",
       "</table>\n",
       "</div>"
      ],
      "text/plain": [
       "                                          title  year\n",
       "0                        The Ticket to the Life  2009\n",
       "1  Parallel Worlds: A New Rock Music Experience  2016\n",
       "2                     Morita - La hija de Jesus  2008\n",
       "3                                           Gun  2017\n",
       "4                        Love or Nothing at All  2014"
      ]
     },
     "execution_count": 5,
     "metadata": {},
     "output_type": "execute_result"
    }
   ],
   "source": [
    "movies.head()"
   ]
  },
  {
   "cell_type": "markdown",
   "metadata": {},
   "source": [
    "## Taking a look at the Cast dataset\n",
    "\n",
    "This data shows the cast (actors, actresses, supporting roles) for each movie\n",
    "\n",
    "- The attribute `n` basically tells the importance of the cast role, lower the number, more important the role.\n",
    "- Supporting cast usually don't have any value for `n`"
   ]
  },
  {
   "cell_type": "code",
   "execution_count": 6,
   "metadata": {
    "gradient": {}
   },
   "outputs": [
    {
     "name": "stdout",
     "output_type": "stream",
     "text": [
      "<class 'pandas.core.frame.DataFrame'>\n",
      "RangeIndex: 3786176 entries, 0 to 3786175\n",
      "Data columns (total 6 columns):\n",
      " #   Column     Dtype  \n",
      "---  ------     -----  \n",
      " 0   title      object \n",
      " 1   year       int64  \n",
      " 2   name       object \n",
      " 3   type       object \n",
      " 4   character  object \n",
      " 5   n          float64\n",
      "dtypes: float64(1), int64(1), object(4)\n",
      "memory usage: 173.3+ MB\n"
     ]
    }
   ],
   "source": [
    "cast = pd.read_csv('cast.csv.zip')\n",
    "cast.info()"
   ]
  },
  {
   "cell_type": "code",
   "execution_count": 7,
   "metadata": {
    "gradient": {}
   },
   "outputs": [
    {
     "data": {
      "text/html": [
       "<div>\n",
       "<style scoped>\n",
       "    .dataframe tbody tr th:only-of-type {\n",
       "        vertical-align: middle;\n",
       "    }\n",
       "\n",
       "    .dataframe tbody tr th {\n",
       "        vertical-align: top;\n",
       "    }\n",
       "\n",
       "    .dataframe thead th {\n",
       "        text-align: right;\n",
       "    }\n",
       "</style>\n",
       "<table border=\"1\" class=\"dataframe\">\n",
       "  <thead>\n",
       "    <tr style=\"text-align: right;\">\n",
       "      <th></th>\n",
       "      <th>title</th>\n",
       "      <th>year</th>\n",
       "      <th>name</th>\n",
       "      <th>type</th>\n",
       "      <th>character</th>\n",
       "      <th>n</th>\n",
       "    </tr>\n",
       "  </thead>\n",
       "  <tbody>\n",
       "    <tr>\n",
       "      <th>0</th>\n",
       "      <td>Closet Monster</td>\n",
       "      <td>2015</td>\n",
       "      <td>Buffy #1</td>\n",
       "      <td>actor</td>\n",
       "      <td>Buffy 4</td>\n",
       "      <td>31.0</td>\n",
       "    </tr>\n",
       "    <tr>\n",
       "      <th>1</th>\n",
       "      <td>Suuri illusioni</td>\n",
       "      <td>1985</td>\n",
       "      <td>Homo $</td>\n",
       "      <td>actor</td>\n",
       "      <td>Guests</td>\n",
       "      <td>22.0</td>\n",
       "    </tr>\n",
       "    <tr>\n",
       "      <th>2</th>\n",
       "      <td>Battle of the Sexes</td>\n",
       "      <td>2017</td>\n",
       "      <td>$hutter</td>\n",
       "      <td>actor</td>\n",
       "      <td>Bobby Riggs Fan</td>\n",
       "      <td>10.0</td>\n",
       "    </tr>\n",
       "    <tr>\n",
       "      <th>3</th>\n",
       "      <td>Secret in Their Eyes</td>\n",
       "      <td>2015</td>\n",
       "      <td>$hutter</td>\n",
       "      <td>actor</td>\n",
       "      <td>2002 Dodger Fan</td>\n",
       "      <td>NaN</td>\n",
       "    </tr>\n",
       "    <tr>\n",
       "      <th>4</th>\n",
       "      <td>Steve Jobs</td>\n",
       "      <td>2015</td>\n",
       "      <td>$hutter</td>\n",
       "      <td>actor</td>\n",
       "      <td>1988 Opera House Patron</td>\n",
       "      <td>NaN</td>\n",
       "    </tr>\n",
       "    <tr>\n",
       "      <th>5</th>\n",
       "      <td>Straight Outta Compton</td>\n",
       "      <td>2015</td>\n",
       "      <td>$hutter</td>\n",
       "      <td>actor</td>\n",
       "      <td>Club Patron</td>\n",
       "      <td>NaN</td>\n",
       "    </tr>\n",
       "    <tr>\n",
       "      <th>6</th>\n",
       "      <td>Straight Outta Compton</td>\n",
       "      <td>2015</td>\n",
       "      <td>$hutter</td>\n",
       "      <td>actor</td>\n",
       "      <td>Dopeman</td>\n",
       "      <td>NaN</td>\n",
       "    </tr>\n",
       "    <tr>\n",
       "      <th>7</th>\n",
       "      <td>For Thy Love 2</td>\n",
       "      <td>2009</td>\n",
       "      <td>Bee Moe $lim</td>\n",
       "      <td>actor</td>\n",
       "      <td>Thug 1</td>\n",
       "      <td>NaN</td>\n",
       "    </tr>\n",
       "    <tr>\n",
       "      <th>8</th>\n",
       "      <td>Lapis, Ballpen at Diploma, a True to Life Journey</td>\n",
       "      <td>2014</td>\n",
       "      <td>Jori ' Danilo' Jurado Jr.</td>\n",
       "      <td>actor</td>\n",
       "      <td>Jaime (young)</td>\n",
       "      <td>9.0</td>\n",
       "    </tr>\n",
       "    <tr>\n",
       "      <th>9</th>\n",
       "      <td>Desire (III)</td>\n",
       "      <td>2014</td>\n",
       "      <td>Syaiful 'Ariffin</td>\n",
       "      <td>actor</td>\n",
       "      <td>Actor Playing Eteocles from 'Antigone'</td>\n",
       "      <td>NaN</td>\n",
       "    </tr>\n",
       "  </tbody>\n",
       "</table>\n",
       "</div>"
      ],
      "text/plain": [
       "                                               title  year  \\\n",
       "0                                     Closet Monster  2015   \n",
       "1                                    Suuri illusioni  1985   \n",
       "2                                Battle of the Sexes  2017   \n",
       "3                               Secret in Their Eyes  2015   \n",
       "4                                         Steve Jobs  2015   \n",
       "5                             Straight Outta Compton  2015   \n",
       "6                             Straight Outta Compton  2015   \n",
       "7                                     For Thy Love 2  2009   \n",
       "8  Lapis, Ballpen at Diploma, a True to Life Journey  2014   \n",
       "9                                       Desire (III)  2014   \n",
       "\n",
       "                        name   type                               character  \\\n",
       "0                   Buffy #1  actor                                 Buffy 4   \n",
       "1                     Homo $  actor                                  Guests   \n",
       "2                    $hutter  actor                         Bobby Riggs Fan   \n",
       "3                    $hutter  actor                         2002 Dodger Fan   \n",
       "4                    $hutter  actor                 1988 Opera House Patron   \n",
       "5                    $hutter  actor                             Club Patron   \n",
       "6                    $hutter  actor                                 Dopeman   \n",
       "7               Bee Moe $lim  actor                                  Thug 1   \n",
       "8  Jori ' Danilo' Jurado Jr.  actor                           Jaime (young)   \n",
       "9           Syaiful 'Ariffin  actor  Actor Playing Eteocles from 'Antigone'   \n",
       "\n",
       "      n  \n",
       "0  31.0  \n",
       "1  22.0  \n",
       "2  10.0  \n",
       "3   NaN  \n",
       "4   NaN  \n",
       "5   NaN  \n",
       "6   NaN  \n",
       "7   NaN  \n",
       "8   9.0  \n",
       "9   NaN  "
      ]
     },
     "execution_count": 7,
     "metadata": {},
     "output_type": "execute_result"
    }
   ],
   "source": [
    "cast.head(10)"
   ]
  },
  {
   "cell_type": "markdown",
   "metadata": {},
   "source": [
    "## Taking a look at the Release dataset\n",
    "\n",
    "This data shows details of when each movie was release in each country with the release date"
   ]
  },
  {
   "cell_type": "code",
   "execution_count": 8,
   "metadata": {
    "gradient": {}
   },
   "outputs": [
    {
     "name": "stdout",
     "output_type": "stream",
     "text": [
      "<class 'pandas.core.frame.DataFrame'>\n",
      "RangeIndex: 479488 entries, 0 to 479487\n",
      "Data columns (total 4 columns):\n",
      " #   Column   Non-Null Count   Dtype         \n",
      "---  ------   --------------   -----         \n",
      " 0   title    479488 non-null  object        \n",
      " 1   year     479488 non-null  int64         \n",
      " 2   country  479488 non-null  object        \n",
      " 3   date     479488 non-null  datetime64[ns]\n",
      "dtypes: datetime64[ns](1), int64(1), object(2)\n",
      "memory usage: 14.6+ MB\n"
     ]
    }
   ],
   "source": [
    "release_dates = pd.read_csv('release_dates.csv', parse_dates=['date'], infer_datetime_format=True)\n",
    "release_dates.info()"
   ]
  },
  {
   "cell_type": "code",
   "execution_count": 9,
   "metadata": {
    "gradient": {}
   },
   "outputs": [
    {
     "data": {
      "text/html": [
       "<div>\n",
       "<style scoped>\n",
       "    .dataframe tbody tr th:only-of-type {\n",
       "        vertical-align: middle;\n",
       "    }\n",
       "\n",
       "    .dataframe tbody tr th {\n",
       "        vertical-align: top;\n",
       "    }\n",
       "\n",
       "    .dataframe thead th {\n",
       "        text-align: right;\n",
       "    }\n",
       "</style>\n",
       "<table border=\"1\" class=\"dataframe\">\n",
       "  <thead>\n",
       "    <tr style=\"text-align: right;\">\n",
       "      <th></th>\n",
       "      <th>title</th>\n",
       "      <th>year</th>\n",
       "      <th>country</th>\n",
       "      <th>date</th>\n",
       "    </tr>\n",
       "  </thead>\n",
       "  <tbody>\n",
       "    <tr>\n",
       "      <th>0</th>\n",
       "      <td>#73, Shaanthi Nivaasa</td>\n",
       "      <td>2007</td>\n",
       "      <td>India</td>\n",
       "      <td>2007-06-15</td>\n",
       "    </tr>\n",
       "    <tr>\n",
       "      <th>1</th>\n",
       "      <td>#BKKY</td>\n",
       "      <td>2016</td>\n",
       "      <td>Cambodia</td>\n",
       "      <td>2017-10-12</td>\n",
       "    </tr>\n",
       "    <tr>\n",
       "      <th>2</th>\n",
       "      <td>#Beings</td>\n",
       "      <td>2015</td>\n",
       "      <td>Romania</td>\n",
       "      <td>2015-01-29</td>\n",
       "    </tr>\n",
       "    <tr>\n",
       "      <th>3</th>\n",
       "      <td>#Captured</td>\n",
       "      <td>2017</td>\n",
       "      <td>USA</td>\n",
       "      <td>2017-09-05</td>\n",
       "    </tr>\n",
       "    <tr>\n",
       "      <th>4</th>\n",
       "      <td>#Ewankosau saranghaeyo</td>\n",
       "      <td>2015</td>\n",
       "      <td>Philippines</td>\n",
       "      <td>2015-01-21</td>\n",
       "    </tr>\n",
       "  </tbody>\n",
       "</table>\n",
       "</div>"
      ],
      "text/plain": [
       "                    title  year      country       date\n",
       "0   #73, Shaanthi Nivaasa  2007        India 2007-06-15\n",
       "1                   #BKKY  2016     Cambodia 2017-10-12\n",
       "2                 #Beings  2015      Romania 2015-01-29\n",
       "3               #Captured  2017          USA 2017-09-05\n",
       "4  #Ewankosau saranghaeyo  2015  Philippines 2015-01-21"
      ]
     },
     "execution_count": 9,
     "metadata": {},
     "output_type": "execute_result"
    }
   ],
   "source": [
    "release_dates.head()"
   ]
  },
  {
   "cell_type": "markdown",
   "metadata": {},
   "source": [
    "# Section I - Basic Querying, Filtering and Transformations"
   ]
  },
  {
   "cell_type": "markdown",
   "metadata": {},
   "source": [
    "### What is the total number of movies?"
   ]
  },
  {
   "cell_type": "code",
   "execution_count": 9,
   "metadata": {
    "gradient": {}
   },
   "outputs": [
    {
     "data": {
      "text/plain": [
       "244914"
      ]
     },
     "execution_count": 9,
     "metadata": {},
     "output_type": "execute_result"
    }
   ],
   "source": [
    "len(movies)"
   ]
  },
  {
   "cell_type": "markdown",
   "metadata": {},
   "source": [
    "### List all Batman movies ever made"
   ]
  },
  {
   "cell_type": "code",
   "execution_count": null,
   "metadata": {
    "gradient": {}
   },
   "outputs": [
    {
     "name": "stdout",
     "output_type": "stream",
     "text": [
      "Total Batman Movies: 2\n"
     ]
    },
    {
     "data": {
      "text/html": [
       "<div>\n",
       "<style scoped>\n",
       "    .dataframe tbody tr th:only-of-type {\n",
       "        vertical-align: middle;\n",
       "    }\n",
       "\n",
       "    .dataframe tbody tr th {\n",
       "        vertical-align: top;\n",
       "    }\n",
       "\n",
       "    .dataframe thead th {\n",
       "        text-align: right;\n",
       "    }\n",
       "</style>\n",
       "<table border=\"1\" class=\"dataframe\">\n",
       "  <thead>\n",
       "    <tr style=\"text-align: right;\">\n",
       "      <th></th>\n",
       "      <th>title</th>\n",
       "      <th>year</th>\n",
       "    </tr>\n",
       "  </thead>\n",
       "  <tbody>\n",
       "    <tr>\n",
       "      <th>52734</th>\n",
       "      <td>Batman</td>\n",
       "      <td>1943</td>\n",
       "    </tr>\n",
       "    <tr>\n",
       "      <th>150621</th>\n",
       "      <td>Batman</td>\n",
       "      <td>1989</td>\n",
       "    </tr>\n",
       "  </tbody>\n",
       "</table>\n",
       "</div>"
      ],
      "text/plain": [
       "         title  year\n",
       "52734   Batman  1943\n",
       "150621  Batman  1989"
      ]
     },
     "execution_count": 10,
     "metadata": {},
     "output_type": "execute_result"
    }
   ],
   "source": [
    "batman_df = movies[movies.title == 'Batman']\n",
    "print('Total Batman Movies:', len(batman_df))\n",
    "batman_df"
   ]
  },
  {
   "cell_type": "markdown",
   "metadata": {},
   "source": [
    "### List all Batman movies ever made - the right approach"
   ]
  },
  {
   "cell_type": "code",
   "execution_count": null,
   "metadata": {
    "gradient": {}
   },
   "outputs": [
    {
     "name": "stdout",
     "output_type": "stream",
     "text": [
      "Total Batman Movies: 35\n"
     ]
    },
    {
     "data": {
      "text/html": [
       "<div>\n",
       "<style scoped>\n",
       "    .dataframe tbody tr th:only-of-type {\n",
       "        vertical-align: middle;\n",
       "    }\n",
       "\n",
       "    .dataframe tbody tr th {\n",
       "        vertical-align: top;\n",
       "    }\n",
       "\n",
       "    .dataframe thead th {\n",
       "        text-align: right;\n",
       "    }\n",
       "</style>\n",
       "<table border=\"1\" class=\"dataframe\">\n",
       "  <thead>\n",
       "    <tr style=\"text-align: right;\">\n",
       "      <th></th>\n",
       "      <th>title</th>\n",
       "      <th>year</th>\n",
       "    </tr>\n",
       "  </thead>\n",
       "  <tbody>\n",
       "    <tr>\n",
       "      <th>16813</th>\n",
       "      <td>Batman: Anarchy</td>\n",
       "      <td>2016</td>\n",
       "    </tr>\n",
       "    <tr>\n",
       "      <th>30236</th>\n",
       "      <td>Batman Forever</td>\n",
       "      <td>1995</td>\n",
       "    </tr>\n",
       "    <tr>\n",
       "      <th>31674</th>\n",
       "      <td>Batman Untold</td>\n",
       "      <td>2010</td>\n",
       "    </tr>\n",
       "    <tr>\n",
       "      <th>31711</th>\n",
       "      <td>Scooby-Doo &amp; Batman: the Brave and the Bold</td>\n",
       "      <td>2018</td>\n",
       "    </tr>\n",
       "    <tr>\n",
       "      <th>41881</th>\n",
       "      <td>Batman the Rise of Red Hood</td>\n",
       "      <td>2018</td>\n",
       "    </tr>\n",
       "    <tr>\n",
       "      <th>43484</th>\n",
       "      <td>Batman: Return of the Caped Crusaders</td>\n",
       "      <td>2016</td>\n",
       "    </tr>\n",
       "    <tr>\n",
       "      <th>46333</th>\n",
       "      <td>Batman &amp; Robin</td>\n",
       "      <td>1997</td>\n",
       "    </tr>\n",
       "    <tr>\n",
       "      <th>51811</th>\n",
       "      <td>Batman Revealed</td>\n",
       "      <td>2012</td>\n",
       "    </tr>\n",
       "    <tr>\n",
       "      <th>52734</th>\n",
       "      <td>Batman</td>\n",
       "      <td>1943</td>\n",
       "    </tr>\n",
       "    <tr>\n",
       "      <th>56029</th>\n",
       "      <td>Batman Beyond: Rising Knight</td>\n",
       "      <td>2014</td>\n",
       "    </tr>\n",
       "  </tbody>\n",
       "</table>\n",
       "</div>"
      ],
      "text/plain": [
       "                                             title  year\n",
       "16813                              Batman: Anarchy  2016\n",
       "30236                               Batman Forever  1995\n",
       "31674                                Batman Untold  2010\n",
       "31711  Scooby-Doo & Batman: the Brave and the Bold  2018\n",
       "41881                  Batman the Rise of Red Hood  2018\n",
       "43484        Batman: Return of the Caped Crusaders  2016\n",
       "46333                               Batman & Robin  1997\n",
       "51811                              Batman Revealed  2012\n",
       "52734                                       Batman  1943\n",
       "56029                 Batman Beyond: Rising Knight  2014"
      ]
     },
     "execution_count": 11,
     "metadata": {},
     "output_type": "execute_result"
    }
   ],
   "source": [
    "batman_df = movies[movies.title.str.contains('Batman', case=False)]\n",
    "print('Total Batman Movies:', len(batman_df))\n",
    "batman_df.head(10)"
   ]
  },
  {
   "cell_type": "markdown",
   "metadata": {},
   "source": [
    "### Display the top 15 Batman movies in the order they were released"
   ]
  },
  {
   "cell_type": "code",
   "execution_count": null,
   "metadata": {
    "gradient": {}
   },
   "outputs": [
    {
     "data": {
      "text/html": [
       "<div>\n",
       "<style scoped>\n",
       "    .dataframe tbody tr th:only-of-type {\n",
       "        vertical-align: middle;\n",
       "    }\n",
       "\n",
       "    .dataframe tbody tr th {\n",
       "        vertical-align: top;\n",
       "    }\n",
       "\n",
       "    .dataframe thead th {\n",
       "        text-align: right;\n",
       "    }\n",
       "</style>\n",
       "<table border=\"1\" class=\"dataframe\">\n",
       "  <thead>\n",
       "    <tr style=\"text-align: right;\">\n",
       "      <th></th>\n",
       "      <th>title</th>\n",
       "      <th>year</th>\n",
       "    </tr>\n",
       "  </thead>\n",
       "  <tbody>\n",
       "    <tr>\n",
       "      <th>52734</th>\n",
       "      <td>Batman</td>\n",
       "      <td>1943</td>\n",
       "    </tr>\n",
       "    <tr>\n",
       "      <th>100056</th>\n",
       "      <td>Batman and Robin</td>\n",
       "      <td>1949</td>\n",
       "    </tr>\n",
       "    <tr>\n",
       "      <th>161439</th>\n",
       "      <td>Batman Dracula</td>\n",
       "      <td>1964</td>\n",
       "    </tr>\n",
       "    <tr>\n",
       "      <th>84327</th>\n",
       "      <td>Alyas Batman at Robin</td>\n",
       "      <td>1965</td>\n",
       "    </tr>\n",
       "    <tr>\n",
       "      <th>68364</th>\n",
       "      <td>James Batman</td>\n",
       "      <td>1966</td>\n",
       "    </tr>\n",
       "    <tr>\n",
       "      <th>161527</th>\n",
       "      <td>Batman: The Movie</td>\n",
       "      <td>1966</td>\n",
       "    </tr>\n",
       "    <tr>\n",
       "      <th>56159</th>\n",
       "      <td>Batman Fights Dracula</td>\n",
       "      <td>1967</td>\n",
       "    </tr>\n",
       "    <tr>\n",
       "      <th>168504</th>\n",
       "      <td>Fight! Batman, Fight!</td>\n",
       "      <td>1973</td>\n",
       "    </tr>\n",
       "    <tr>\n",
       "      <th>150621</th>\n",
       "      <td>Batman</td>\n",
       "      <td>1989</td>\n",
       "    </tr>\n",
       "    <tr>\n",
       "      <th>156239</th>\n",
       "      <td>Alyas Batman en Robin</td>\n",
       "      <td>1991</td>\n",
       "    </tr>\n",
       "    <tr>\n",
       "      <th>156755</th>\n",
       "      <td>Batman Returns</td>\n",
       "      <td>1992</td>\n",
       "    </tr>\n",
       "    <tr>\n",
       "      <th>63366</th>\n",
       "      <td>Batman: Mask of the Phantasm</td>\n",
       "      <td>1993</td>\n",
       "    </tr>\n",
       "    <tr>\n",
       "      <th>30236</th>\n",
       "      <td>Batman Forever</td>\n",
       "      <td>1995</td>\n",
       "    </tr>\n",
       "    <tr>\n",
       "      <th>46333</th>\n",
       "      <td>Batman &amp; Robin</td>\n",
       "      <td>1997</td>\n",
       "    </tr>\n",
       "    <tr>\n",
       "      <th>208220</th>\n",
       "      <td>Batman Begins</td>\n",
       "      <td>2005</td>\n",
       "    </tr>\n",
       "  </tbody>\n",
       "</table>\n",
       "</div>"
      ],
      "text/plain": [
       "                               title  year\n",
       "52734                         Batman  1943\n",
       "100056              Batman and Robin  1949\n",
       "161439                Batman Dracula  1964\n",
       "84327          Alyas Batman at Robin  1965\n",
       "68364                   James Batman  1966\n",
       "161527             Batman: The Movie  1966\n",
       "56159          Batman Fights Dracula  1967\n",
       "168504         Fight! Batman, Fight!  1973\n",
       "150621                        Batman  1989\n",
       "156239         Alyas Batman en Robin  1991\n",
       "156755                Batman Returns  1992\n",
       "63366   Batman: Mask of the Phantasm  1993\n",
       "30236                 Batman Forever  1995\n",
       "46333                 Batman & Robin  1997\n",
       "208220                 Batman Begins  2005"
      ]
     },
     "execution_count": 12,
     "metadata": {},
     "output_type": "execute_result"
    }
   ],
   "source": [
    "batman_df.sort_values(by=['year'], ascending=True).iloc[:15]"
   ]
  },
  {
   "cell_type": "markdown",
   "metadata": {},
   "source": [
    "### Section I - Q1 : List all the 'Harry Potter' movies from the most recent to the earliest"
   ]
  },
  {
   "cell_type": "code",
   "execution_count": null,
   "metadata": {
    "gradient": {}
   },
   "outputs": [
    {
     "name": "stdout",
     "output_type": "stream",
     "text": [
      "                                               title  year\n",
      "143147  Harry Potter and the Deathly Hallows: Part 2  2011\n",
      "152831  Harry Potter and the Deathly Hallows: Part 1  2010\n",
      "109213        Harry Potter and the Half-Blood Prince  2009\n",
      "50581      Harry Potter and the Order of the Phoenix  2007\n",
      "187926           Harry Potter and the Goblet of Fire  2005\n",
      "61957       Harry Potter and the Prisoner of Azkaban  2004\n",
      "82791        Harry Potter and the Chamber of Secrets  2002\n",
      "223087         Harry Potter and the Sorcerer's Stone  2001\n"
     ]
    }
   ],
   "source": [
    "Harry_Potter=movies[movies['title'].str.contains(\"Harry Potter\", case=False)]\n",
    "Harry_Potter_df=Harry_Potter.sort_values('year',ascending=False)\n",
    "print(Harry_Potter_df)"
   ]
  },
  {
   "cell_type": "markdown",
   "metadata": {},
   "source": [
    "### How many movies were made in the year 2017?"
   ]
  },
  {
   "cell_type": "code",
   "execution_count": null,
   "metadata": {
    "gradient": {}
   },
   "outputs": [
    {
     "data": {
      "text/plain": [
       "11474"
      ]
     },
     "execution_count": 14,
     "metadata": {},
     "output_type": "execute_result"
    }
   ],
   "source": [
    "len(movies[movies.year == 2017])"
   ]
  },
  {
   "cell_type": "markdown",
   "metadata": {},
   "source": [
    "### Section I - Q2 : How many movies were made in the year 2015?"
   ]
  },
  {
   "cell_type": "code",
   "execution_count": null,
   "metadata": {
    "gradient": {}
   },
   "outputs": [
    {
     "data": {
      "text/plain": [
       "8702"
      ]
     },
     "execution_count": 15,
     "metadata": {},
     "output_type": "execute_result"
    }
   ],
   "source": [
    "len(movies[movies['year']==2015])"
   ]
  },
  {
   "cell_type": "markdown",
   "metadata": {},
   "source": [
    "### Section I - Q3 : How many movies were made from 2000 till 2018?\n",
    "- You can chain multiple conditions using OR (`|`) as well as AND (`&`) depending on the condition"
   ]
  },
  {
   "cell_type": "code",
   "execution_count": null,
   "metadata": {
    "gradient": {}
   },
   "outputs": [
    {
     "name": "stdout",
     "output_type": "stream",
     "text": [
      "114070\n"
     ]
    }
   ],
   "source": [
    "FROM2015to2018=len(movies[(movies['year']>=2000) & (movies['year']<=2018)])\n",
    "print(FROM2015to2018)"
   ]
  },
  {
   "cell_type": "markdown",
   "metadata": {},
   "source": [
    "### Section I - Q4: How many movies are titled \"Hamlet\"?"
   ]
  },
  {
   "cell_type": "code",
   "execution_count": null,
   "metadata": {
    "gradient": {}
   },
   "outputs": [
    {
     "name": "stdout",
     "output_type": "stream",
     "text": [
      "57\n"
     ]
    }
   ],
   "source": [
    "Hamlet=movies[movies['title'].str.contains(\"Hamlet\", case=False)]\n",
    "print(len(Hamlet))"
   ]
  },
  {
   "cell_type": "markdown",
   "metadata": {},
   "source": [
    "### Section I - Q5: List all movies titled \"Hamlet\" \n",
    "- The movies should only have been released on or after the year 2000\n",
    "- Display the movies based on the year they were released (earliest to most recent)"
   ]
  },
  {
   "cell_type": "code",
   "execution_count": null,
   "metadata": {
    "gradient": {}
   },
   "outputs": [
    {
     "name": "stdout",
     "output_type": "stream",
     "text": [
      "                                          title  year\n",
      "55639                                    Hamlet  2000\n",
      "55525                    Hamlet in the Hamptons  2002\n",
      "137905                                 Hamlet_X  2003\n",
      "218468                                 Hamlet X  2004\n",
      "40045                               Hamlet (II)  2005\n",
      "152920          Dogg's Hamlet, Cahoot's Macbeth  2005\n",
      "200246  The Tragedy of Hamlet Prince of Denmark  2007\n",
      "176528                              Hamlet (II)  2007\n",
      "156899                             Hamlet (III)  2007\n",
      "52408                 Hamlet the Vampire Slayer  2008\n",
      "141237                                 Hamlet 2  2008\n",
      "191734                           Kitchen Hamlet  2009\n",
      "1931                                     Hamlet  2009\n",
      "227953                                   Hamlet  2011\n",
      "220674                     Hamlet Demonstration  2011\n",
      "51236                            Hamlet Unbound  2012\n",
      "17833                             Zombie Hamlet  2012\n",
      "186136                      Harry, Hamlet and I  2013\n",
      "178290                                   Hamlet  2014\n",
      "10364                             Hamlet A.D.D.  2014\n",
      "186137                                   Hamlet  2015\n",
      "133802            National Theatre Live: Hamlet  2015\n",
      "44571                               Hamlet (II)  2015\n",
      "17531                            Hamlet's Ghost  2015\n",
      "209533                 Hamlet, Son of a Kingpin  2015\n",
      "70547         Royal Shakespeare Company: Hamlet  2016\n",
      "191940                                   Hamlet  2016\n",
      "98329                               Hamlet (II)  2017\n",
      "50271                            Hamlet/Horatio  2017\n",
      "240089                Hamlet in the Golden Vale  2017\n",
      "244747                                   Hamlet  2017\n",
      "78217             Hamlet: The Fall of a Sparrow  2018\n"
     ]
    }
   ],
   "source": [
    "Hamlet_2000=Hamlet[Hamlet['year']>=2000]\n",
    "Hamlet_2000_df=Hamlet_2000.sort_values('year',ascending=True)\n",
    "print(Hamlet_2000_df)"
   ]
  },
  {
   "cell_type": "markdown",
   "metadata": {},
   "source": [
    "### Section I - Q6: How many roles in the movie \"Inception\" are of the supporting cast (extra credits)\n",
    "- supporting cast are NOT ranked by an \"n\" value (NaN)\n",
    "- check for how to filter based on nulls"
   ]
  },
  {
   "cell_type": "code",
   "execution_count": null,
   "metadata": {
    "gradient": {}
   },
   "outputs": [
    {
     "name": "stdout",
     "output_type": "stream",
     "text": [
      "number of supporting cast in the Inception: 36\n"
     ]
    }
   ],
   "source": [
    "Inception=cast[cast['title'].str.contains(\"Inception\",case=False)]\n",
    "role=Inception.fillna({'n':0})\n",
    "support_cast=role[role['n']==0]\n",
    "\n",
    "\n",
    "print(\"number of supporting cast in the Inception: \"+str(len(support_cast)))"
   ]
  },
  {
   "cell_type": "markdown",
   "metadata": {},
   "source": [
    "### Section I - Q7: How many roles in the movie \"Inception\" are of the main cast\n",
    "- main cast always have an 'n' value"
   ]
  },
  {
   "cell_type": "code",
   "execution_count": null,
   "metadata": {
    "gradient": {}
   },
   "outputs": [
    {
     "name": "stdout",
     "output_type": "stream",
     "text": [
      "number of main cast: 3\n"
     ]
    }
   ],
   "source": [
    "main_cast=role[(role['n']>0) & (role['n']<4)]\n",
    "print(\"number of main cast: \"+ str(len(main_cast)))"
   ]
  },
  {
   "cell_type": "markdown",
   "metadata": {},
   "source": [
    "### Section I - Q8: Show the top ten cast (actors\\actresses) in the movie \"Inception\" \n",
    "- main cast always have an 'n' value\n",
    "- remember to sort!"
   ]
  },
  {
   "cell_type": "code",
   "execution_count": null,
   "metadata": {
    "gradient": {}
   },
   "outputs": [
    {
     "name": "stdout",
     "output_type": "stream",
     "text": [
      "             title  year                  name     type        character     n\n",
      "590576   Inception  2010     Leonardo DiCaprio    actor             Cobb   1.0\n",
      "859993   Inception  2010  Joseph Gordon-Levitt    actor           Arthur   2.0\n",
      "3387147  Inception  2010            Ellen Page  actress          Ariadne   3.0\n",
      "940923   Inception  2010             Tom Hardy    actor            Eames   4.0\n",
      "2406531  Inception  2010          Ken Watanabe    actor            Saito   5.0\n",
      "1876301  Inception  2010            Dileep Rao    actor            Yusuf   6.0\n",
      "1615709  Inception  2010        Cillian Murphy    actor   Robert Fischer   7.0\n",
      "183937   Inception  2010          Tom Berenger    actor         Browning   8.0\n",
      "2765969  Inception  2010      Marion Cotillard  actress              Mal   9.0\n",
      "1826027  Inception  2010    Pete Postlethwaite    actor  Maurice Fischer  10.0\n"
     ]
    }
   ],
   "source": [
    "casts=role[role['n']!=0]\n",
    "top_ten=casts.sort_values('n',ascending=True)\n",
    "print(top_ten.iloc[0:10])\n"
   ]
  },
  {
   "cell_type": "markdown",
   "metadata": {},
   "source": [
    "### Section I - Q9:\n",
    "\n",
    "(A) List all movies where there was a character 'Albus Dumbledore' \n",
    "\n",
    "(B) Now modify the above to show only the actors who played the character 'Albus Dumbledore'\n",
    "- For Part (B) remember the same actor might play the same role in multiple movies"
   ]
  },
  {
   "cell_type": "code",
   "execution_count": null,
   "metadata": {
    "gradient": {}
   },
   "outputs": [
    {
     "name": "stdout",
     "output_type": "stream",
     "text": [
      "['Epic Movie', 'Harry Potter and the Goblet of Fire', 'Harry Potter and the Order of the Phoenix', 'Harry Potter and the Prisoner of Azkaban', 'Harry Potter and the Chamber of Secrets', \"Harry Potter and the Sorcerer's Stone\", 'Ultimate Hero Project', 'Potter']\n"
     ]
    }
   ],
   "source": [
    "M=cast[cast['character']==\"Albus Dumbledore\"]\n",
    "list_AD=[]\n",
    "for K in M['title']:\n",
    "    list_AD.append(K)\n",
    "print(list_AD)\n",
    "\n"
   ]
  },
  {
   "cell_type": "code",
   "execution_count": null,
   "metadata": {
    "gradient": {}
   },
   "outputs": [
    {
     "name": "stdout",
     "output_type": "stream",
     "text": [
      "['Dane Farwell', 'Michael Gambon', 'Richard Harris', \"George (X) O'Connor\", 'Timothy Tedmanson']\n"
     ]
    }
   ],
   "source": [
    "list_actors=[]\n",
    "actors=M.drop_duplicates(subset=['name'])\n",
    "for A in actors['name']:\n",
    "    list_actors.append(A)\n",
    "print(list_actors)"
   ]
  },
  {
   "cell_type": "markdown",
   "metadata": {},
   "source": [
    "### Section I - Q10:\n",
    "\n",
    "(A) How many roles has 'Keanu Reeves' played throughout his career?\n",
    "\n",
    "(B) List the leading roles that 'Keanu Reeves' played on or after 1999 in order by year."
   ]
  },
  {
   "cell_type": "code",
   "execution_count": null,
   "metadata": {
    "gradient": {}
   },
   "outputs": [
    {
     "name": "stdout",
     "output_type": "stream",
     "text": [
      "62\n"
     ]
    }
   ],
   "source": [
    "KR=cast[cast['name']==\"Keanu Reeves\"]\n",
    "print(len(KR['character']))"
   ]
  },
  {
   "cell_type": "code",
   "execution_count": null,
   "metadata": {
    "gradient": {}
   },
   "outputs": [
    {
     "name": "stdout",
     "output_type": "stream",
     "text": [
      "102        TV Reporter #1\n",
      "138                  Deon\n",
      "144                  Malo\n",
      "145                Marcus\n",
      "146                  Rich\n",
      "                ...      \n",
      "3785795            M?nire\n",
      "3785893            Denise\n",
      "3785961        Kadife Ana\n",
      "3786008         Stephanie\n",
      "3786011         Katharine\n",
      "Name: character, Length: 60568, dtype: object\n"
     ]
    }
   ],
   "source": [
    "KR_role=cast[(cast['year']>1999) & (cast['n']==1)]\n",
    "print(KR_role['character'])"
   ]
  },
  {
   "cell_type": "markdown",
   "metadata": {},
   "source": [
    "### Section I - Q11: \n",
    "\n",
    "(A) List the total number of actor and actress roles available from 1950 - 1960\n",
    "\n",
    "(B) List the total number of actor and actress roles available from 2007 - 2017"
   ]
  },
  {
   "cell_type": "code",
   "execution_count": null,
   "metadata": {
    "gradient": {}
   },
   "outputs": [
    {
     "name": "stdout",
     "output_type": "stream",
     "text": [
      "234635\n"
     ]
    }
   ],
   "source": [
    "temp= cast[(cast['type'].isin([\"actor\",\"actress\"])) & (1950<=cast['year']) & (cast['year']<=1960)]\n",
    "roles2=temp.dropna(subset=['character'])\n",
    "print(len(roles2['character']))"
   ]
  },
  {
   "cell_type": "code",
   "execution_count": null,
   "metadata": {
    "gradient": {}
   },
   "outputs": [
    {
     "name": "stdout",
     "output_type": "stream",
     "text": [
      "1452413\n"
     ]
    }
   ],
   "source": [
    "temp1= cast[(cast['type'].isin([\"actor\",\"actress\"])) & (2007<=cast['year']) & (cast['year']<=2017)]\n",
    "roles3=temp1.dropna(subset=['character'])\n",
    "print(len(roles3['character']))"
   ]
  },
  {
   "cell_type": "markdown",
   "metadata": {},
   "source": [
    "### Section I - Q12: \n",
    "\n",
    "(A) List the total number of leading roles available from 2000 to present\n",
    "\n",
    "(B) List the total number of non-leading roles available from 2000 - present (exclude support cast)\n",
    "\n",
    "(C) List the total number of support\\extra-credit roles available from 2000 - present"
   ]
  },
  {
   "cell_type": "code",
   "execution_count": null,
   "metadata": {
    "gradient": {}
   },
   "outputs": [
    {
     "name": "stdout",
     "output_type": "stream",
     "text": [
      "117332\n"
     ]
    }
   ],
   "source": [
    "leading_role=cast[(cast['n'].isin([1,2])) & (cast['year']>=2000)]\n",
    "print(len(leading_role))"
   ]
  },
  {
   "cell_type": "code",
   "execution_count": null,
   "metadata": {
    "gradient": {}
   },
   "outputs": [
    {
     "name": "stdout",
     "output_type": "stream",
     "text": [
      "3668844\n"
     ]
    }
   ],
   "source": [
    "print(len(cast)-len(leading_role))"
   ]
  },
  {
   "cell_type": "code",
   "execution_count": null,
   "metadata": {
    "gradient": {}
   },
   "outputs": [
    {
     "name": "stdout",
     "output_type": "stream",
     "text": [
      "36\n"
     ]
    }
   ],
   "source": [
    "\n",
    "print(len(role[(role['n']==0) & (role['year']>=2000)]))"
   ]
  },
  {
   "cell_type": "markdown",
   "metadata": {},
   "source": [
    "# Section II - Aggregations, Transformations and Visualizations"
   ]
  },
  {
   "cell_type": "markdown",
   "metadata": {},
   "source": [
    "## What are the top ten most common movie names of all time?\n"
   ]
  },
  {
   "cell_type": "code",
   "execution_count": null,
   "metadata": {
    "gradient": {}
   },
   "outputs": [
    {
     "data": {
      "text/plain": [
       "Hamlet                  20\n",
       "Carmen                  17\n",
       "Macbeth                 16\n",
       "Temptation              12\n",
       "The Outsider            12\n",
       "Maya                    12\n",
       "Honeymoon               11\n",
       "Othello                 11\n",
       "The Three Musketeers    11\n",
       "Freedom                 11\n",
       "Name: title, dtype: int64"
      ]
     },
     "execution_count": 31,
     "metadata": {},
     "output_type": "execute_result"
    }
   ],
   "source": [
    "top_ten = movies.title.value_counts()[:10]\n",
    "top_ten"
   ]
  },
  {
   "cell_type": "markdown",
   "metadata": {},
   "source": [
    "### Plot the top ten common movie names of all time"
   ]
  },
  {
   "cell_type": "code",
   "execution_count": null,
   "metadata": {
    "gradient": {}
   },
   "outputs": [
    {
     "data": {
      "text/plain": [
       "<matplotlib.axes._subplots.AxesSubplot at 0x7f60bd0511d0>"
      ]
     },
     "execution_count": 32,
     "metadata": {},
     "output_type": "execute_result"
    },
    {
     "data": {
      "image/png": "[encoded data removed]",
      "text/plain": [
       "<Figure size 432x288 with 1 Axes>"
      ]
     },
     "metadata": {
      "needs_background": "light"
     },
     "output_type": "display_data"
    }
   ],
   "source": [
    "top_ten.plot(kind='barh')"
   ]
  },
  {
   "cell_type": "markdown",
   "metadata": {},
   "source": [
    "### Section II - Q1:  Which years in the 2000s saw the most movies released? (Show top 3)"
   ]
  },
  {
   "cell_type": "code",
   "execution_count": null,
   "metadata": {
    "gradient": {}
   },
   "outputs": [
    {
     "name": "stdout",
     "output_type": "stream",
     "text": [
      "[2009, 2008, 2007]\n"
     ]
    }
   ],
   "source": [
    "movies_2000=release_dates[(release_dates['year']>=2000) & (release_dates['year']<2010)]\n",
    "\n",
    "year_most_movie=movies_2000.groupby(by=[\"year\"]).title.count()\n",
    "topthree=year_most_movie.sort_values(ascending=False).iloc[0:3]\n",
    "print(topthree.index.tolist())"
   ]
  },
  {
   "cell_type": "markdown",
   "metadata": {},
   "source": [
    "### Section II - Q2: # Plot the total number of films released per-decade (1890, 1900, 1910,....)\n",
    "- Hint: Dividing the year and multiplying with a number might give you the decade the year falls into!\n",
    "- You might need to sort before plotting"
   ]
  },
  {
   "cell_type": "code",
   "execution_count": null,
   "metadata": {
    "gradient": {}
   },
   "outputs": [
    {
     "name": "stdout",
     "output_type": "stream",
     "text": [
      "         title\n",
      "year          \n",
      "1890.0       1\n",
      "1900.0       1\n",
      "1910.0     843\n",
      "1920.0   12619\n",
      "1930.0   16299\n",
      "1940.0   28404\n",
      "1950.0   25752\n",
      "1960.0   34596\n",
      "1970.0   30461\n",
      "1980.0   36243\n",
      "1990.0   35651\n",
      "2000.0   86677\n",
      "2010.0  121673\n",
      "2020.0   50267\n",
      "2120.0       1\n"
     ]
    },
    {
     "data": {
      "image/png": "[encoded data removed]",
      "text/plain": [
       "<Figure size 432x288 with 1 Axes>"
      ]
     },
     "metadata": {
      "needs_background": "light"
     },
     "output_type": "display_data"
    }
   ],
   "source": [
    "release_dates_3=release_dates.copy()\n",
    "#release_dates[\"year\"]=release_dates[\"year\"]*100\n",
    "release_dates_3[\"year\"]=release_dates_3[\"year\"]/10\n",
    "release_dates_3[\"year\"]=release_dates_3[\"year\"].round()*10\n",
    "movies_per_decade=release_dates_3.groupby(by=[\"year\"]).title.count()\n",
    "\n",
    "movies_per_decade_df=movies_per_decade.to_frame()\n",
    "print(movies_per_decade_df)\n",
    "plt.plot(movies_per_decade_df)\n",
    "plt.xlabel('year (s)')\n",
    "plt.ylabel('total number of films')\n",
    "plt.title(\"total number of fils released per-decade\")\n",
    "plt.show()\n"
   ]
  },
  {
   "cell_type": "markdown",
   "metadata": {},
   "source": [
    "### Section II - Q3: \n",
    "\n",
    "(A) What are the top 10 most common character names in movie history?\n",
    "\n",
    "(B) Who are the top 10 people most often credited as \"Herself\" in movie history?\n",
    "\n",
    "(C) Who are the top 10 people most often credited as \"Himself\" in movie history?"
   ]
  },
  {
   "cell_type": "code",
   "execution_count": null,
   "metadata": {
    "gradient": {}
   },
   "outputs": [
    {
     "name": "stdout",
     "output_type": "stream",
     "text": [
      "['Himself', 'Dancer', 'Extra', 'Reporter', 'Student', 'Doctor', 'Party Guest', 'Policeman', 'Nurse', 'Bartender']\n"
     ]
    }
   ],
   "source": [
    "top_10_char=cast['character'].value_counts()\n",
    "print(top_10_char[0:10].index.tolist())"
   ]
  },
  {
   "cell_type": "code",
   "execution_count": null,
   "metadata": {
    "gradient": {}
   },
   "outputs": [
    {
     "name": "stdout",
     "output_type": "stream",
     "text": [
      "['Queen Elizabeth II', 'Joyce Brothers', 'Luisa Horga', 'Mar?a Luisa (V) Mart?n', 'Margaret Thatcher', 'Hillary Clinton', 'Oprah Winfrey', 'Mar?a Isabel (III) Mart?n', 'Rekha', 'In?s J. Southern']\n"
     ]
    }
   ],
   "source": [
    "top_10_herself=cast[cast['character']==\"Herself\"]\n",
    "top_10_herself_2=top_10_herself['name'].value_counts()\n",
    "print(top_10_herself_2[0:10].index.tolist())"
   ]
  },
  {
   "cell_type": "code",
   "execution_count": null,
   "metadata": {
    "gradient": {}
   },
   "outputs": [
    {
     "name": "stdout",
     "output_type": "stream",
     "text": [
      "['Adolf Hitler', 'Richard Nixon', 'Ronald Reagan', 'John F. Kennedy', 'George W. Bush', 'Winston Churchill', 'Martin Luther King', 'Ron Jeremy', 'Bill Clinton', 'Benito Mussolini']\n"
     ]
    }
   ],
   "source": [
    "top_10_himself=cast[cast['character']==\"Himself\"]\n",
    "top_10_himself_2=top_10_himself['name'].value_counts()\n",
    "print(top_10_himself_2[0:10].index.tolist())"
   ]
  },
  {
   "cell_type": "markdown",
   "metadata": {},
   "source": [
    "### Section II - Q4: \n",
    "\n",
    "(A) What are the top 10 most frequent roles that start with the word \"Zombie\"?\n",
    "\n",
    "(B) What are the top 10 most frequent roles that start with the word \"Police\"?\n",
    "\n",
    "- Hint: The `startswith()` function might be useful"
   ]
  },
  {
   "cell_type": "code",
   "execution_count": null,
   "metadata": {
    "gradient": {}
   },
   "outputs": [
    {
     "name": "stdout",
     "output_type": "stream",
     "text": [
      "['Zombie', 'Zombie', 'Zombie', 'Zombie', 'Zombie', 'Zombie', 'Zombie', 'Zombie', 'Zombie', 'Zombie']\n"
     ]
    }
   ],
   "source": [
    "zombie_roles=cast[cast['character'].str.startswith('Zombie')]\n",
    "zombie_roles_2=zombie_roles.sort_values(by='character')\n",
    "\n",
    "print(zombie_roles_2['character'][0:10].tolist())"
   ]
  },
  {
   "cell_type": "code",
   "execution_count": null,
   "metadata": {
    "gradient": {}
   },
   "outputs": [
    {
     "name": "stdout",
     "output_type": "stream",
     "text": [
      "['Police', 'Police', 'Police', 'Police', 'Police', 'Police', 'Police', 'Police', 'Police', 'Police']\n"
     ]
    }
   ],
   "source": [
    "Police_roles=cast[cast['character'].str.startswith('Police')]\n",
    "Police_roles_2=Police_roles.sort_values(by='character')\n",
    "\n",
    "print(Police_roles_2['character'][0:10].tolist())"
   ]
  },
  {
   "cell_type": "markdown",
   "metadata": {},
   "source": [
    "### Section II - Q5: Plot how many roles 'Keanu Reeves' has played in each year of his career."
   ]
  },
  {
   "cell_type": "code",
   "execution_count": null,
   "metadata": {
    "gradient": {}
   },
   "outputs": [
    {
     "name": "stdout",
     "output_type": "stream",
     "text": [
      "    year  character\n",
      "0   1985          1\n",
      "1   1986          3\n",
      "2   1988          4\n",
      "3   1989          2\n",
      "4   1990          2\n",
      "5   1991          3\n",
      "6   1992          1\n",
      "7   1993          4\n",
      "8   1994          1\n",
      "9   1995          2\n",
      "10  1996          2\n",
      "11  1997          2\n",
      "12  1999          3\n",
      "13  2000          3\n",
      "14  2001          2\n",
      "15  2003          3\n",
      "16  2005          3\n",
      "17  2006          2\n",
      "18  2008          2\n",
      "19  2009          1\n",
      "20  2010          1\n",
      "21  2012          1\n",
      "22  2013          2\n",
      "23  2014          1\n",
      "24  2015          1\n",
      "25  2016          5\n",
      "26  2017          3\n",
      "27  2018          1\n",
      "28  2019          1\n"
     ]
    },
    {
     "data": {
      "text/plain": [
       "Text(0, 0.5, 'character')"
      ]
     },
     "execution_count": 40,
     "metadata": {},
     "output_type": "execute_result"
    },
    {
     "data": {
      "image/png": "[encoded data removed]",
      "text/plain": [
       "<Figure size 432x288 with 1 Axes>"
      ]
     },
     "metadata": {
      "needs_background": "light"
     },
     "output_type": "display_data"
    }
   ],
   "source": [
    "KR_roles=cast[cast['name']==\"Keanu Reeves\"]\n",
    "KR_roles_2=KR_roles.groupby(by=\"year\").character.count()\n",
    "KR_roles_2=KR_roles_2.to_frame().reset_index()\n",
    "print(KR_roles_2)\n",
    "PLOT=KR_roles_2.plot.bar(x=\"year\",y=\"character\", title=\"number of roles Keanu Reeves has played in each year of his career\")\n",
    "PLOT.set_xlabel(\"year\")\n",
    "PLOT.set_ylabel(\"character\")\n",
    "\n"
   ]
  },
  {
   "cell_type": "markdown",
   "metadata": {},
   "source": [
    "### Section II - Q6: Plot the cast positions (n-values) of Keanu Reeve's roles through his career over the years.\n"
   ]
  },
  {
   "cell_type": "code",
   "execution_count": null,
   "metadata": {
    "gradient": {}
   },
   "outputs": [
    {
     "name": "stdout",
     "output_type": "stream",
     "text": [
      "    year     n\n",
      "0   1985   1.0\n",
      "1   1986  17.0\n",
      "2   1988  14.0\n",
      "3   1989   9.0\n",
      "4   1990   8.0\n",
      "5   1991   5.0\n",
      "6   1992   4.0\n",
      "7   1993  19.0\n",
      "8   1994   1.0\n",
      "9   1995   2.0\n",
      "10  1996   2.0\n",
      "11  1997   3.0\n",
      "12  1999  85.0\n",
      "13  2000   7.0\n",
      "14  2001   2.0\n",
      "15  2003  95.0\n",
      "16  2005  39.0\n",
      "17  2006   5.0\n",
      "18  2008   2.0\n",
      "19  2009  16.0\n",
      "20  2010   1.0\n",
      "21  2012   0.0\n",
      "22  2013   3.0\n",
      "23  2014   1.0\n",
      "24  2015   1.0\n",
      "25  2016  46.0\n",
      "26  2017  12.0\n",
      "27  2018   1.0\n",
      "28  2019   0.0\n"
     ]
    },
    {
     "data": {
      "text/plain": [
       "Text(0, 0.5, 'cast position')"
      ]
     },
     "execution_count": 41,
     "metadata": {},
     "output_type": "execute_result"
    },
    {
     "data": {
      "image/png": "[encoded data removed]",
      "text/plain": [
       "<Figure size 432x288 with 1 Axes>"
      ]
     },
     "metadata": {
      "needs_background": "light"
     },
     "output_type": "display_data"
    }
   ],
   "source": [
    "KR_cast_pos=cast[cast['name']==\"Keanu Reeves\"]\n",
    "KR_cast_pos_2=KR_cast_pos.groupby(by=\"year\").n.sum()\n",
    "KR_cast_pos_2=KR_cast_pos_2.to_frame().reset_index()\n",
    "print(KR_cast_pos_2)\n",
    "PLOT2=KR_cast_pos_2.plot.bar(x=\"year\",y=\"n\", title=\"cast position of Keanu Reeves's role through his career\")\n",
    "PLOT2.set_xlabel(\"year\")\n",
    "PLOT2.set_ylabel(\"cast position\")\n"
   ]
  },
  {
   "cell_type": "markdown",
   "metadata": {},
   "source": [
    "### Section II - Q7: Plot the number of \"Hamlet\" films made by each decade"
   ]
  },
  {
   "cell_type": "code",
   "execution_count": null,
   "metadata": {
    "gradient": {}
   },
   "outputs": [
    {
     "name": "stdout",
     "output_type": "stream",
     "text": [
      "         title    year  country       date\n",
      "147638  Hamlet  1910.0      USA 1910-02-02\n",
      "147639  Hamlet  1910.0  Denmark 1911-02-27\n",
      "147640  Hamlet  1910.0       UK 1911-03-18\n",
      "147641  Hamlet  1910.0      USA 1911-04-15\n",
      "147642  Hamlet  1920.0  Finland 1921-01-10\n",
      "...        ...     ...      ...        ...\n",
      "147716  Hamlet  2010.0      USA 2014-01-10\n",
      "147717  Hamlet  2020.0       UK 2015-03-23\n",
      "147718  Hamlet  2020.0   Canada 2016-04-23\n",
      "147719  Hamlet  2020.0      USA 2016-04-24\n",
      "147720  Hamlet  2020.0       UK 2017-04-28\n",
      "\n",
      "[83 rows x 4 columns]\n",
      "      year   title\n",
      "0   1890.0       1\n",
      "1   1900.0       1\n",
      "2   1910.0     843\n",
      "3   1920.0   12619\n",
      "4   1930.0   16299\n",
      "5   1940.0   28404\n",
      "6   1950.0   25752\n",
      "7   1960.0   34596\n",
      "8   1970.0   30461\n",
      "9   1980.0   36243\n",
      "10  1990.0   35651\n",
      "11  2000.0   86677\n",
      "12  2010.0  121673\n",
      "13  2020.0   50267\n",
      "14  2120.0       1\n",
      "      year  title_x  title_y\n",
      "8   1890.0      NaN        1\n",
      "9   1900.0      NaN        1\n",
      "0   1910.0      4.0      843\n",
      "1   1920.0      5.0    12619\n",
      "10  1930.0      NaN    16299\n",
      "11  1940.0      NaN    28404\n",
      "2   1950.0     13.0    25752\n",
      "12  1960.0      NaN    34596\n",
      "3   1970.0      3.0    30461\n",
      "13  1980.0      NaN    36243\n",
      "4   1990.0     17.0    35651\n",
      "5   2000.0     36.0    86677\n",
      "6   2010.0      1.0   121673\n",
      "7   2020.0      4.0    50267\n",
      "14  2120.0      NaN        1\n"
     ]
    },
    {
     "data": {
      "text/plain": [
       "Text(0, 0.5, '# of Hamlet')"
      ]
     },
     "execution_count": 42,
     "metadata": {},
     "output_type": "execute_result"
    },
    {
     "data": {
      "image/png": "[encoded data removed]",
      "text/plain": [
       "<Figure size 432x288 with 1 Axes>"
      ]
     },
     "metadata": {
      "needs_background": "light"
     },
     "output_type": "display_data"
    }
   ],
   "source": [
    "release_dates_4=release_dates_3.copy()\n",
    "release_dates_5=release_dates_4[release_dates_4['title']=='Hamlet']\n",
    "print(release_dates_5)\n",
    "H_per_decade=release_dates_5.groupby(by=[\"year\"]).title.count()\n",
    "H_per_decade_2=H_per_decade.to_frame()\n",
    "movies_per_decade_df_2=movies_per_decade_df.copy()\n",
    "movies_per_decade_df_3=movies_per_decade_df_2.reset_index()\n",
    "print(movies_per_decade_df_3)\n",
    "x=H_per_decade_2.merge(movies_per_decade_df_3,how='outer', on='year')\n",
    "k=x.sort_values('year')\n",
    "print(k)\n",
    "PLOT3=k.plot.bar(x=\"year\",y=\"title_x\", title=\"number of Hamlet films made by each decade\")\n",
    "PLOT3.set_xlabel(\"year\")\n",
    "PLOT3.set_ylabel(\"# of Hamlet\")"
   ]
  },
  {
   "cell_type": "markdown",
   "metadata": {},
   "source": [
    "### Section II - Q8: \n",
    "\n",
    "(A) How many leading roles were available to both actors and actresses, in the 1960s (1960-1969)?\n",
    "\n",
    "(B) How many leading roles were available to both actors and actresses, in the 2000s (2000-2009)?\n",
    "\n",
    "- Hint: A specific value of n might indicate a leading role"
   ]
  },
  {
   "cell_type": "code",
   "execution_count": null,
   "metadata": {
    "gradient": {}
   },
   "outputs": [
    {
     "name": "stdout",
     "output_type": "stream",
     "text": [
      "22618\n"
     ]
    }
   ],
   "source": [
    "\n",
    "actor_actress=cast[(cast['type']=='actor') |(cast['type']=='actress')]\n",
    "actor_actress_2=actor_actress[(actor_actress['n']<3) & (cast['year']<=1969)&(cast['year']>=1960)]\n",
    "#\n",
    "print(len(actor_actress_2))\n"
   ]
  },
  {
   "cell_type": "code",
   "execution_count": null,
   "metadata": {
    "gradient": {}
   },
   "outputs": [
    {
     "name": "stdout",
     "output_type": "stream",
     "text": [
      "51084\n"
     ]
    }
   ],
   "source": [
    "actor_actress_2000=actor_actress[(actor_actress['n']<3) & (cast['year']<=2009)&(cast['year']>=2000)]\n",
    "#\n",
    "print(len(actor_actress_2000))\n"
   ]
  },
  {
   "cell_type": "markdown",
   "metadata": {},
   "source": [
    "### Section II - Q9: List, in order by year, each of the films in which Frank Oz has played more than 1 role."
   ]
  },
  {
   "cell_type": "code",
   "execution_count": 20,
   "metadata": {
    "gradient": {}
   },
   "outputs": [
    {
     "name": "stdout",
     "output_type": "stream",
     "text": [
      "0                         The Muppet Movie\n",
      "3           An American Werewolf in London\n",
      "4                   The Great Muppet Caper\n",
      "5                         The Dark Crystal\n",
      "9               The Muppets Take Manhattan\n",
      "10                        Follow That Bird\n",
      "14              The Muppet Christmas Carol\n",
      "15                  Muppet Treasure Island\n",
      "17                      Muppets from Space\n",
      "19    The Adventures of Elmo in Grouchland\n",
      "Name: title, dtype: object\n"
     ]
    }
   ],
   "source": [
    "fk=cast[cast['name']=='Frank Oz']\n",
    "fk_2=fk.groupby(by=['year','title']).character.count()\n",
    "fk_3=fk_2.to_frame()\n",
    "fk_4=fk_3.reset_index()\n",
    "print(fk_4[fk_4['character']!=1]['title'])\n",
    "\n",
    "        \n"
   ]
  },
  {
   "cell_type": "markdown",
   "metadata": {},
   "source": [
    "### Section II - Q10: List each of the characters that Frank Oz has portrayed at least twice"
   ]
  },
  {
   "cell_type": "code",
   "execution_count": null,
   "metadata": {
    "gradient": {}
   },
   "outputs": [],
   "source": []
  },
  {
   "cell_type": "markdown",
   "metadata": {
    "gradient": {
     "editing": false
    }
   },
   "source": [
    "# Section III - Advanced Merging, Querying and Visualizations"
   ]
  },
  {
   "cell_type": "markdown",
   "metadata": {
    "gradient": {
     "editing": false
    }
   },
   "source": [
    "## Make a bar plot with the following conditions\n",
    "- Frequency of the number of movies with \"Christmas\" in their title \n",
    "- Movies should be such that they are released in the USA.\n",
    "- Show the frequency plot by month"
   ]
  },
  {
   "cell_type": "code",
   "execution_count": 23,
   "metadata": {
    "gradient": {}
   },
   "outputs": [
    {
     "data": {
      "text/plain": [
       "<matplotlib.axes._subplots.AxesSubplot at 0x7fe73a79f490>"
      ]
     },
     "execution_count": 23,
     "metadata": {},
     "output_type": "execute_result"
    },
    {
     "data": {
      "image/png": "[encoded data removed]",
      "text/plain": [
       "<Figure size 432x288 with 1 Axes>"
      ]
     },
     "metadata": {
      "needs_background": "light"
     },
     "output_type": "display_data"
    }
   ],
   "source": [
    "christmas = release_dates[(release_dates.title.str.contains('Christmas')) & (release_dates.country == 'USA')]\n",
    "christmas.date.dt.month.value_counts().sort_index().plot(kind='bar')"
   ]
  },
  {
   "cell_type": "markdown",
   "metadata": {
    "gradient": {
     "editing": false
    }
   },
   "source": [
    "### Section III - Q1: Make a bar plot with the following conditions\n",
    "- Frequency of the number of movies with \"Summer\" in their title \n",
    "- Movies should be such that they are released in the USA.\n",
    "- Show the frequency plot by month"
   ]
  },
  {
   "cell_type": "code",
   "execution_count": null,
   "metadata": {
    "gradient": {}
   },
   "outputs": [],
   "source": [
    "Summer = release_dates[(release_dates.title.str.contains('Summer')) & (release_dates.country == 'USA')]\n",
    "Summer.date.dt.month.value_counts().sort_index().plot(kind='bar')"
   ]
  },
  {
   "cell_type": "markdown",
   "metadata": {
    "gradient": {
     "editing": false
    }
   },
   "source": [
    "### Section III - Q2: Make a bar plot with the following conditions\n",
    "- Frequency of the number of movies with \"Action\" in their title \n",
    "- Movies should be such that they are released in the USA.\n",
    "- Show the frequency plot by week"
   ]
  },
  {
   "cell_type": "code",
   "execution_count": 22,
   "metadata": {
    "gradient": {}
   },
   "outputs": [
    {
     "data": {
      "text/plain": [
       "<matplotlib.axes._subplots.AxesSubplot at 0x7fe73a815650>"
      ]
     },
     "execution_count": 22,
     "metadata": {},
     "output_type": "execute_result"
    },
    {
     "data": {
      "image/png": "[encoded data removed]",
      "text/plain": [
       "<Figure size 432x288 with 1 Axes>"
      ]
     },
     "metadata": {
      "needs_background": "light"
     },
     "output_type": "display_data"
    }
   ],
   "source": [
    "Action = release_dates[(release_dates.title.str.contains('Action')) & (release_dates.country == 'USA')]\n",
    "Action.date.dt.dayofweek.value_counts().sort_index().plot(kind='bar')"
   ]
  },
  {
   "cell_type": "markdown",
   "metadata": {
    "gradient": {
     "editing": false
    }
   },
   "source": [
    "### Section III - Q3: Show all the movies in which Keanu Reeves has played the lead role along with their   release date in the USA sorted by the date of release\n",
    "- Hint: You might need to join or merge two datasets!"
   ]
  },
  {
   "cell_type": "code",
   "execution_count": 26,
   "metadata": {
    "gradient": {}
   },
   "outputs": [
    {
     "name": "stdout",
     "output_type": "stream",
     "text": [
      "18                         River's Edge\n",
      "28                     The Night Before\n",
      "3      Bill & Ted's Excellent Adventure\n",
      "32                  Tune in Tomorrow...\n",
      "17                          Point Break\n",
      "2            Bill & Ted's Bogus Journey\n",
      "13                        Little Buddha\n",
      "20                                Speed\n",
      "11                      Johnny Mnemonic\n",
      "1                  A Walk in the Clouds\n",
      "4                        Chain Reaction\n",
      "6                     Feeling Minnesota\n",
      "26    The Last Time I Committed Suicide\n",
      "24                 The Devil's Advocate\n",
      "27                           The Matrix\n",
      "30                     The Replacements\n",
      "22                       Sweet November\n",
      "7                             Hard Ball\n",
      "5                           Constantine\n",
      "25                       The Lake House\n",
      "21                         Street Kings\n",
      "23        The Day the Earth Stood Still\n",
      "0                              47 Ronin\n",
      "9                             John Wick\n",
      "12                          Knock Knock\n",
      "10                 John Wick: Chapter 2\n",
      "Name: title, dtype: object\n"
     ]
    }
   ],
   "source": [
    "temp=cast[(cast['n']<=2) & (cast['name']=='Keanu Reeves') ]\n",
    "temp2=release_dates[release_dates['country']=='USA'].sort_values('date')\n",
    "temp3=temp.merge(temp2,how='outer',on=['year','title'])\n",
    "print(temp3.sort_values('date').dropna()['title'])"
   ]
  },
  {
   "cell_type": "markdown",
   "metadata": {
    "gradient": {
     "editing": false
    }
   },
   "source": [
    "### Section III - Q4: Make a bar plot showing the months in which movies with Keanu Reeves tend to be released in the USA?"
   ]
  },
  {
   "cell_type": "code",
   "execution_count": 29,
   "metadata": {
    "gradient": {}
   },
   "outputs": [
    {
     "name": "stdout",
     "output_type": "stream",
     "text": [
      "                                title  year          name   type  \\\n",
      "0                            47 Ronin  2013  Keanu Reeves  actor   \n",
      "1                A Walk in the Clouds  1995  Keanu Reeves  actor   \n",
      "2          Bill & Ted's Bogus Journey  1991  Keanu Reeves  actor   \n",
      "3    Bill & Ted's Excellent Adventure  1989  Keanu Reeves  actor   \n",
      "4                      Chain Reaction  1996  Keanu Reeves  actor   \n",
      "5                         Constantine  2005  Keanu Reeves  actor   \n",
      "6                   Feeling Minnesota  1996  Keanu Reeves  actor   \n",
      "7                           Hard Ball  2001  Keanu Reeves  actor   \n",
      "9                           John Wick  2014  Keanu Reeves  actor   \n",
      "10               John Wick: Chapter 2  2017  Keanu Reeves  actor   \n",
      "11                    Johnny Mnemonic  1995  Keanu Reeves  actor   \n",
      "12                        Knock Knock  2015  Keanu Reeves  actor   \n",
      "13                      Little Buddha  1993  Keanu Reeves  actor   \n",
      "17                        Point Break  1991  Keanu Reeves  actor   \n",
      "18                       River's Edge  1986  Keanu Reeves  actor   \n",
      "20                              Speed  1994  Keanu Reeves  actor   \n",
      "21                       Street Kings  2008  Keanu Reeves  actor   \n",
      "22                     Sweet November  2001  Keanu Reeves  actor   \n",
      "23      The Day the Earth Stood Still  2008  Keanu Reeves  actor   \n",
      "24               The Devil's Advocate  1997  Keanu Reeves  actor   \n",
      "25                     The Lake House  2006  Keanu Reeves  actor   \n",
      "26  The Last Time I Committed Suicide  1997  Keanu Reeves  actor   \n",
      "27                         The Matrix  1999  Keanu Reeves  actor   \n",
      "28                   The Night Before  1988  Keanu Reeves  actor   \n",
      "30                   The Replacements  2000  Keanu Reeves  actor   \n",
      "32                Tune in Tomorrow...  1990  Keanu Reeves  actor   \n",
      "\n",
      "               character    n country       date  \n",
      "0                    Kai  1.0     USA 2013-12-25  \n",
      "1            Paul Sutton  1.0     USA 1995-08-11  \n",
      "2                    Ted  1.0     USA 1991-07-19  \n",
      "3                    Ted  1.0     USA 1989-02-17  \n",
      "4       Eddie Kasalivich  1.0     USA 1996-08-02  \n",
      "5       John Constantine  1.0     USA 2005-02-18  \n",
      "6          Jjaks Clayton  1.0     USA 1996-09-13  \n",
      "7          Conor O'Neill  1.0     USA 2001-09-14  \n",
      "9              John Wick  1.0     USA 2014-10-24  \n",
      "10             John Wick  1.0     USA 2017-02-10  \n",
      "11       Johnny Mnemonic  1.0     USA 1995-05-26  \n",
      "12                  Evan  1.0     USA 2015-10-09  \n",
      "13            Siddhartha  1.0     USA 1994-05-25  \n",
      "17           Johnny Utah  2.0     USA 1991-07-12  \n",
      "18                  Matt  2.0     USA 1987-05-08  \n",
      "20           Jack Traven  1.0     USA 1994-06-10  \n",
      "21  Detective Tom Ludlow  1.0     USA 2008-04-11  \n",
      "22           Nelson Moss  1.0     USA 2001-02-16  \n",
      "23                Klaatu  1.0     USA 2008-12-12  \n",
      "24           Kevin Lomax  1.0     USA 1997-10-17  \n",
      "25            Alex Wyler  1.0     USA 2006-06-16  \n",
      "26                 Harry  2.0     USA 1997-06-20  \n",
      "27                   Neo  1.0     USA 1999-03-31  \n",
      "28      Winston Connelly  1.0     USA 1988-04-15  \n",
      "30           Shane Falco  1.0     USA 2000-08-11  \n",
      "32         Martin Loader  2.0     USA 1990-11-02  \n"
     ]
    },
    {
     "data": {
      "text/plain": [
       "<matplotlib.axes._subplots.AxesSubplot at 0x7f01a0bee450>"
      ]
     },
     "execution_count": 29,
     "metadata": {},
     "output_type": "execute_result"
    },
    {
     "data": {
      "image/png": "[encoded data removed]",
      "text/plain": [
       "<Figure size 432x288 with 1 Axes>"
      ]
     },
     "metadata": {
      "needs_background": "light"
     },
     "output_type": "display_data"
    }
   ],
   "source": [
    "temp4=temp3.dropna()\n",
    "temp4.date.dt.month.value_counts().sort_index().plot(kind='bar')"
   ]
  },
  {
   "cell_type": "markdown",
   "metadata": {},
   "source": [
    "### Section III - Q5: Make a bar plot showing the years in which movies with Ian McKellen tend to be released in the USA?"
   ]
  },
  {
   "cell_type": "code",
   "execution_count": 30,
   "metadata": {
    "gradient": {}
   },
   "outputs": [
    {
     "data": {
      "text/plain": [
       "<matplotlib.axes._subplots.AxesSubplot at 0x7f01a08a27d0>"
      ]
     },
     "execution_count": 30,
     "metadata": {},
     "output_type": "execute_result"
    },
    {
     "data": {
      "image/png": "[encoded data removed]",
      "text/plain": [
       "<Figure size 432x288 with 1 Axes>"
      ]
     },
     "metadata": {
      "needs_background": "light"
     },
     "output_type": "display_data"
    }
   ],
   "source": [
    "IM=cast[cast['name']=='Ian McKellen']\n",
    "IM_2=release_dates[release_dates['country']=='USA']\n",
    "IM_merged=IM.merge(IM_2,how='outer',on=['year','title'])\n",
    "IM_3=IM_merged.dropna()\n",
    "IM_3.date.dt.year.value_counts().sort_index().plot(kind='bar')\n"
   ]
  },
  {
   "cell_type": "code",
   "execution_count": null,
   "metadata": {},
   "outputs": [],
   "source": []
  }
 ],
 "metadata": {
  "kernelspec": {
   "display_name": "Python 3",
   "language": "python",
   "name": "python3"
  },
  "language_info": {
   "codemirror_mode": {
    "name": "ipython",
    "version": 3
   },
   "file_extension": ".py",
   "mimetype": "text/x-python",
   "name": "python",
   "nbconvert_exporter": "python",
   "pygments_lexer": "ipython3",
   "version": "3.7.9"
  }
 },
 "nbformat": 4,
 "nbformat_minor": 4
}
